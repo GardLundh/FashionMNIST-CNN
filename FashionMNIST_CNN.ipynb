{
  "nbformat": 4,
  "nbformat_minor": 0,
  "metadata": {
    "colab": {
      "name": "Oblig2_glu004.ipynb",
      "provenance": [],
      "collapsed_sections": []
    },
    "kernelspec": {
      "name": "python3",
      "display_name": "Python 3"
    },
    "accelerator": "GPU"
  },
  "cells": [
    {
      "cell_type": "code",
      "metadata": {
        "id": "hyhTwKhJl6ke",
        "colab_type": "code",
        "colab": {}
      },
      "source": [
        "#FashionMNIST CNN\n",
        "\n",
        "import torch\n",
        "import torch.nn as nn\n",
        "import torch.nn.functional as F\n",
        "import torchvision\n",
        "import torchvision.transforms as transforms\n",
        "\n",
        "import numpy as np\n",
        "from sklearn.metrics import confusion_matrix"
      ],
      "execution_count": 0,
      "outputs": []
    },
    {
      "cell_type": "code",
      "metadata": {
        "id": "kSV6oohcmgHv",
        "colab_type": "code",
        "colab": {}
      },
      "source": [
        "batch_size = 100\n",
        "\n",
        "#Importing Fashion MNIST dataset\n",
        "\n",
        "#Transformations\n",
        "transform = transforms.Compose(\n",
        "    [transforms.ToTensor()])\n",
        "\n",
        "#Training set\n",
        "train_set = torchvision.datasets.FashionMNIST(root='./data/FashionMNIST', train=True,\n",
        "                                        download=True, transform=transform)\n",
        "\n",
        "train_loader = torch.utils.data.DataLoader(train_set, batch_size=batch_size,\n",
        "                                          shuffle=True, num_workers=2)\n",
        "\n",
        "#Test set\n",
        "test_set = torchvision.datasets.FashionMNIST(root='./data/FashionMNIST', train=False,\n",
        "                                       download=True, transform=transform)\n",
        "test_loader = torch.utils.data.DataLoader(test_set, batch_size=batch_size,\n",
        "                                         shuffle=False, num_workers=2)"
      ],
      "execution_count": 0,
      "outputs": []
    },
    {
      "cell_type": "code",
      "metadata": {
        "id": "o92Fh5h7np01",
        "colab_type": "code",
        "colab": {}
      },
      "source": [
        "#Neural network\n",
        "\n",
        "class NnFashionClassifier(nn.Module):\n",
        "  def __init__(self):\n",
        "    super().__init__()\n",
        "\n",
        "    #Layers\n",
        "    #Conv 1\n",
        "    self.conv1 = nn.Conv2d(in_channels=1, out_channels=16, kernel_size=3, padding=1)\n",
        "    self.conv1_b = nn.BatchNorm2d(16)\n",
        "\n",
        "    #Conv 2\n",
        "    self.conv2 = nn.Conv2d(in_channels=16, out_channels=32, kernel_size=3, padding=1)\n",
        "    self.conv2_b = nn.BatchNorm2d(32)\n",
        "\n",
        "    #Conv 3\n",
        "    self.conv3 = nn.Conv2d(in_channels=32, out_channels=64, kernel_size=3, padding=1)\n",
        "    self.conv3_b = nn.BatchNorm2d(64)\n",
        "\n",
        "\n",
        "    self.d1 = nn.Linear(in_features=3*3*64, out_features=120)\n",
        "    self.d2 = nn.Linear(in_features=120, out_features=60)\n",
        "    self.out = nn.Linear(in_features=60, out_features=10)\n",
        "\n",
        "\n",
        "  def forward(self, x):\n",
        "    #conv1\n",
        "    x = self.conv1(x)\n",
        "    x = F.relu(x)\n",
        "    x = self.conv1_b(x)\n",
        "    x = F.max_pool2d(x, kernel_size=2, stride=2)\n",
        "\n",
        "    #conv2\n",
        "    x = self.conv2(x)\n",
        "    x = F.relu(x)\n",
        "    x = self.conv2_b(x)\n",
        "    x = F.max_pool2d(x, kernel_size=2, stride=2)\n",
        "\n",
        "    #conv3\n",
        "    x = self.conv3(x)\n",
        "    x = F.relu(x)\n",
        "    x = self.conv3_b(x)\n",
        "    x = F.max_pool2d(x, kernel_size=2, stride=2)\n",
        "\n",
        "    #d1\n",
        "    x = x.reshape(-1, 3*3*64)\n",
        "    x = self.d1(x)\n",
        "    x = F.relu(x)\n",
        "\n",
        "    #d2\n",
        "    x = self.d2(x)\n",
        "    x = F.relu(x)\n",
        "\n",
        "    #Logits\n",
        "    logits = self.out(x)\n",
        "    out = F.softmax(logits, dim=1)\n",
        "    \n",
        "    return out"
      ],
      "execution_count": 0,
      "outputs": []
    },
    {
      "cell_type": "code",
      "metadata": {
        "id": "2KI6WPRvs9dE",
        "colab_type": "code",
        "outputId": "11e6ee64-9c18-4716-faa8-8700ab9ea982",
        "colab": {
          "base_uri": "https://localhost:8080/",
          "height": 235
        }
      },
      "source": [
        "#Test model\n",
        "model = NnFashionClassifier()\n",
        "for images, labels in train_loader:\n",
        "    print(\"batch size:\", images.shape)\n",
        "    out = model(images)\n",
        "    print(out.shape)\n",
        "    break\n",
        "print(model)"
      ],
      "execution_count": 4,
      "outputs": [
        {
          "output_type": "stream",
          "text": [
            "batch size: torch.Size([100, 1, 28, 28])\n",
            "torch.Size([100, 10])\n",
            "NnFashionClassifier(\n",
            "  (conv1): Conv2d(1, 16, kernel_size=(3, 3), stride=(1, 1), padding=(1, 1))\n",
            "  (conv1_b): BatchNorm2d(16, eps=1e-05, momentum=0.1, affine=True, track_running_stats=True)\n",
            "  (conv2): Conv2d(16, 32, kernel_size=(3, 3), stride=(1, 1), padding=(1, 1))\n",
            "  (conv2_b): BatchNorm2d(32, eps=1e-05, momentum=0.1, affine=True, track_running_stats=True)\n",
            "  (conv3): Conv2d(32, 64, kernel_size=(3, 3), stride=(1, 1), padding=(1, 1))\n",
            "  (conv3_b): BatchNorm2d(64, eps=1e-05, momentum=0.1, affine=True, track_running_stats=True)\n",
            "  (d1): Linear(in_features=576, out_features=120, bias=True)\n",
            "  (d2): Linear(in_features=120, out_features=60, bias=True)\n",
            "  (out): Linear(in_features=60, out_features=10, bias=True)\n",
            ")\n"
          ],
          "name": "stdout"
        }
      ]
    },
    {
      "cell_type": "code",
      "metadata": {
        "id": "7zPOxOSrv7yx",
        "colab_type": "code",
        "colab": {}
      },
      "source": [
        "learning_rate = 0.0002\n",
        "num_epochs = 5\n",
        "\n",
        "device = torch.device(\"cuda:0\" if torch.cuda.is_available() else \"cpu\")\n",
        "model = NnFashionClassifier()\n",
        "model = model.to(device)\n",
        "\n",
        "criterion = nn.CrossEntropyLoss()\n",
        "optimizer = torch.optim.Adam(model.parameters(), lr=learning_rate)\n",
        "\n",
        "#Compute accuracy\n",
        "def get_accuracy(logit, target, batch_size):\n",
        "    #Obtain accuracy for training round\n",
        "    corrects = (torch.max(logit, 1)[1].view(target.size()).data == target.data).sum()\n",
        "    accuracy = 100.0 * corrects/batch_size\n",
        "    return accuracy.item()"
      ],
      "execution_count": 0,
      "outputs": []
    },
    {
      "cell_type": "code",
      "metadata": {
        "id": "mRC3WzMXxw1w",
        "colab_type": "code",
        "outputId": "905e6ef2-0d05-423c-9532-21a2471453c4",
        "colab": {
          "base_uri": "https://localhost:8080/",
          "height": 101
        }
      },
      "source": [
        "for epoch in range(num_epochs):\n",
        "    train_running_loss = 0.0\n",
        "    train_acc = 0.0\n",
        "\n",
        "    model = model.train()\n",
        "\n",
        "    #Training step\n",
        "    for i, (images, labels) in enumerate(train_loader):\n",
        "        \n",
        "        images = images.to(device)\n",
        "        labels = labels.to(device)\n",
        "\n",
        "        #Forward, backprop, loss\n",
        "        logits = model(images)\n",
        "        loss = criterion(logits, labels)\n",
        "        optimizer.zero_grad()\n",
        "        loss.backward()\n",
        "\n",
        "        #Update model params\n",
        "        optimizer.step()\n",
        "\n",
        "        train_running_loss += loss.detach().item()\n",
        "        train_acc += get_accuracy(logits, labels, batch_size)\n",
        "    \n",
        "    model.eval()\n",
        "    print('Epoch: %d | Loss: %.4f | Train Accuracy: %.2f' \\\n",
        "          %(epoch, train_running_loss / i, train_acc/i))"
      ],
      "execution_count": 6,
      "outputs": [
        {
          "output_type": "stream",
          "text": [
            "Epoch: 0 | Loss: 1.7088 | Train Accuracy: 79.01\n",
            "Epoch: 1 | Loss: 1.6243 | Train Accuracy: 84.43\n",
            "Epoch: 2 | Loss: 1.6135 | Train Accuracy: 85.36\n",
            "Epoch: 3 | Loss: 1.5985 | Train Accuracy: 86.90\n",
            "Epoch: 4 | Loss: 1.5623 | Train Accuracy: 90.48\n"
          ],
          "name": "stdout"
        }
      ]
    },
    {
      "cell_type": "code",
      "metadata": {
        "id": "_nyD_WQvZ7Xz",
        "colab_type": "code",
        "outputId": "7b4a0701-5682-477a-e6bf-a0f5252bcbf7",
        "colab": {
          "base_uri": "https://localhost:8080/",
          "height": 34
        }
      },
      "source": [
        "test_acc = 0.0\n",
        "\n",
        "#For confusion matrix\n",
        "list_predictions = []\n",
        "list_labels = []\n",
        "\n",
        "#Get test accuracy\n",
        "for i, (images, labels) in enumerate(test_loader, 0):\n",
        "    images = images.to(device)\n",
        "    labels = labels.to(device)\n",
        "\n",
        "    list_labels.append(labels)\n",
        "\n",
        "    outputs = model(images)\n",
        "    predictions = torch.max(outputs, 1)[1].to(device)\n",
        "    list_predictions.append(predictions)\n",
        "\n",
        "    test_acc += get_accuracy(outputs, labels, batch_size)\n",
        "        \n",
        "print('Test Accuracy: %.2f'%( test_acc/i))"
      ],
      "execution_count": 7,
      "outputs": [
        {
          "output_type": "stream",
          "text": [
            "Test Accuracy: 90.14\n"
          ],
          "name": "stdout"
        }
      ]
    },
    {
      "cell_type": "code",
      "metadata": {
        "id": "Lz1bElEcaWBI",
        "colab_type": "code",
        "outputId": "92424d0f-14b0-4e20-81b9-5047a6434b1f",
        "colab": {
          "base_uri": "https://localhost:8080/",
          "height": 777
        }
      },
      "source": [
        "from itertools import chain\n",
        "import seaborn as sn\n",
        "import pandas as pd\n",
        "import matplotlib.pyplot as plt\n",
        "\n",
        "#Make arrays for predictions and labels\n",
        "predictions_l = [list_predictions[i].tolist() for i in range(len(list_predictions))]\n",
        "labels_l = [list_labels[i].tolist() for i in range(len(list_labels))]\n",
        "predictions_l = list(chain.from_iterable(predictions_l))\n",
        "labels_l = list(chain.from_iterable(labels_l))\n",
        "\n",
        "#Confusion matrix (Not normalized)\n",
        "array = confusion_matrix(labels_l, predictions_l)\n",
        "print(\" Confusion matrix:\\n\", array)\n",
        "\n",
        "#Normalize and plot confusion matrix\n",
        "array = array.astype('float') / array.sum(axis=1)[:, np.newaxis]\n",
        "c_matrix = pd.DataFrame(array, index = [i for i in range(1, 11)],\\\n",
        "                        columns = [i for i in range(1, 11)])\n",
        "plt.figure(figsize=(10, 10))\n",
        "sn.heatmap(c_matrix, annot=True)\n",
        "plt.show()\n"
      ],
      "execution_count": 8,
      "outputs": [
        {
          "output_type": "stream",
          "text": [
            " Confusion matrix:\n",
            " [[837   0   8  25   2   1 121   0   6   0]\n",
            " [  0 972   2  17   4   0   4   0   1   0]\n",
            " [ 16   1 787  11  75   0 109   0   1   0]\n",
            " [  8   5   7 913  27   1  39   0   0   0]\n",
            " [  1   0  26  35 816   1 119   0   2   0]\n",
            " [  0   0   0   1   0 979   0  17   0   3]\n",
            " [115   3  34  29  77   0 735   0   7   0]\n",
            " [  0   0   0   0   0  19   0 965   0  16]\n",
            " [  3   1   0   4   3   3   8   3 975   0]\n",
            " [  0   0   0   0   0   8   1  45   1 945]]\n"
          ],
          "name": "stdout"
        },
        {
          "output_type": "display_data",
          "data": {
            "image/png": "[encoded data removed]",
            "text/plain": [
              "<Figure size 720x720 with 2 Axes>"
            ]
          },
          "metadata": {
            "tags": []
          }
        }
      ]
    }
  ]
}