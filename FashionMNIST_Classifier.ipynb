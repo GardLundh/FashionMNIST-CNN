{
  "nbformat": 4,
  "nbformat_minor": 0,
  "metadata": {
    "colab": {
      "name": "Oblig2_glu004.ipynb",
      "provenance": [],
      "collapsed_sections": []
    },
    "kernelspec": {
      "name": "python3",
      "display_name": "Python 3"
    },
    "accelerator": "GPU"
  },
  "cells": [
    {
      "cell_type": "code",
      "metadata": {
        "id": "hyhTwKhJl6ke",
        "colab_type": "code",
        "colab": {}
      },
      "source": [
        "#FashionMNIST CNN\n",
        "\n",
        "import torch\n",
        "import torch.nn as nn\n",
        "import torch.nn.functional as F\n",
        "import torchvision\n",
        "import torchvision.transforms as transforms\n",
        "\n",
        "import numpy as np\n",
        "from sklearn.metrics import confusion_matrix"
      ],
      "execution_count": 0,
      "outputs": []
    },
    {
      "cell_type": "code",
      "metadata": {
        "id": "kSV6oohcmgHv",
        "colab_type": "code",
        "colab": {}
      },
      "source": [
        "batch_size = 100\n",
        "\n",
        "#Importing Fashion MNIST dataset\n",
        "\n",
        "#Transformations\n",
        "transform = transforms.Compose(\n",
        "    [transforms.ToTensor()])\n",
        "\n",
        "#Training set\n",
        "train_set = torchvision.datasets.FashionMNIST(root='./data/FashionMNIST', train=True,\n",
        "                                        download=True, transform=transform)\n",
        "\n",
        "train_loader = torch.utils.data.DataLoader(train_set, batch_size=batch_size,\n",
        "                                          shuffle=True, num_workers=2)\n",
        "\n",
        "#Test set\n",
        "test_set = torchvision.datasets.FashionMNIST(root='./data/FashionMNIST', train=False,\n",
        "                                       download=True, transform=transform)\n",
        "test_loader = torch.utils.data.DataLoader(test_set, batch_size=batch_size,\n",
        "                                         shuffle=False, num_workers=2)"
      ],
      "execution_count": 0,
      "outputs": []
    },
    {
      "cell_type": "code",
      "metadata": {
        "id": "o92Fh5h7np01",
        "colab_type": "code",
        "colab": {}
      },
      "source": [
        "#Neural network\n",
        "\n",
        "class NnFashionClassifier(nn.Module):\n",
        "  def __init__(self):\n",
        "    super().__init__()\n",
        "\n",
        "    #Layers\n",
        "    #Conv 1\n",
        "    self.conv1 = nn.Conv2d(in_channels=1, out_channels=16, kernel_size=3, padding=1)\n",
        "    self.conv1_b = nn.BatchNorm2d(16)\n",
        "\n",
        "    #Conv 2\n",
        "    self.conv2 = nn.Conv2d(in_channels=16, out_channels=32, kernel_size=3, padding=1)\n",
        "    self.conv2_b = nn.BatchNorm2d(32)\n",
        "\n",
        "    #Conv 3\n",
        "    self.conv3 = nn.Conv2d(in_channels=32, out_channels=64, kernel_size=3, padding=1)\n",
        "    self.conv3_b = nn.BatchNorm2d(64)\n",
        "\n",
        "\n",
        "    self.d1 = nn.Linear(in_features=3*3*64, out_features=10)\n",
        "\n",
        "  def forward(self, x):\n",
        "    #conv1\n",
        "    x = self.conv1(x)\n",
        "    x = F.relu(x)\n",
        "    x = self.conv1_b(x)\n",
        "    x = F.max_pool2d(x, kernel_size=2, stride=2)\n",
        "\n",
        "    #conv2\n",
        "    x = self.conv2(x)\n",
        "    x = F.relu(x)\n",
        "    x = self.conv2_b(x)\n",
        "    x = F.max_pool2d(x, kernel_size=2, stride=2)\n",
        "\n",
        "    #conv3\n",
        "    x = self.conv3(x)\n",
        "    x = F.relu(x)\n",
        "    x = self.conv3_b(x)\n",
        "    x = F.max_pool2d(x, kernel_size=2, stride=2)\n",
        "\n",
        "    #d1\n",
        "    x = x.reshape(-1, 3*3*64)\n",
        "    x = self.d1(x)\n",
        "    x = F.relu(x)\n",
        "\n",
        "    out = F.softmax(x, dim=1)\n",
        "    \n",
        "    return out"
      ],
      "execution_count": 0,
      "outputs": []
    },
    {
      "cell_type": "code",
      "metadata": {
        "id": "2KI6WPRvs9dE",
        "colab_type": "code",
        "outputId": "36ca9f0f-d1a1-4018-8f0b-408c02c9f35e",
        "colab": {
          "base_uri": "https://localhost:8080/",
          "height": 202
        }
      },
      "source": [
        "#Test model\n",
        "model = NnFashionClassifier()\n",
        "for images, labels in train_loader:\n",
        "    print(\"batch size:\", images.shape)\n",
        "    out = model(images)\n",
        "    print(out.shape)\n",
        "    break\n",
        "print(model)"
      ],
      "execution_count": 4,
      "outputs": [
        {
          "output_type": "stream",
          "text": [
            "batch size: torch.Size([100, 1, 28, 28])\n",
            "torch.Size([100, 10])\n",
            "NnFashionClassifier(\n",
            "  (conv1): Conv2d(1, 16, kernel_size=(3, 3), stride=(1, 1), padding=(1, 1))\n",
            "  (conv1_b): BatchNorm2d(16, eps=1e-05, momentum=0.1, affine=True, track_running_stats=True)\n",
            "  (conv2): Conv2d(16, 32, kernel_size=(3, 3), stride=(1, 1), padding=(1, 1))\n",
            "  (conv2_b): BatchNorm2d(32, eps=1e-05, momentum=0.1, affine=True, track_running_stats=True)\n",
            "  (conv3): Conv2d(32, 64, kernel_size=(3, 3), stride=(1, 1), padding=(1, 1))\n",
            "  (conv3_b): BatchNorm2d(64, eps=1e-05, momentum=0.1, affine=True, track_running_stats=True)\n",
            "  (d1): Linear(in_features=576, out_features=10, bias=True)\n",
            ")\n"
          ],
          "name": "stdout"
        }
      ]
    },
    {
      "cell_type": "code",
      "metadata": {
        "id": "7zPOxOSrv7yx",
        "colab_type": "code",
        "colab": {}
      },
      "source": [
        "learning_rate = 0.0005\n",
        "num_epochs = 5\n",
        "\n",
        "device = torch.device(\"cuda:0\" if torch.cuda.is_available() else \"cpu\")\n",
        "model = NnFashionClassifier()\n",
        "model = model.to(device)\n",
        "\n",
        "criterion = nn.CrossEntropyLoss()\n",
        "optimizer = torch.optim.Adam(model.parameters(), lr=learning_rate)\n",
        "\n",
        "#Compute accuracy\n",
        "def get_accuracy(logit, target, batch_size):\n",
        "    #Obtain accuracy for training round\n",
        "    corrects = (torch.max(logit, 1)[1].view(target.size()).data == target.data).sum()\n",
        "    accuracy = 100.0 * corrects/batch_size\n",
        "    return accuracy.item()"
      ],
      "execution_count": 0,
      "outputs": []
    },
    {
      "cell_type": "code",
      "metadata": {
        "id": "mRC3WzMXxw1w",
        "colab_type": "code",
        "colab": {
          "base_uri": "https://localhost:8080/",
          "height": 101
        },
        "outputId": "4eec3687-3c57-4af3-914f-935fb68af0d6"
      },
      "source": [
        "for epoch in range(num_epochs):\n",
        "    train_running_loss = 0.0\n",
        "    train_acc = 0.0\n",
        "\n",
        "    model = model.train()\n",
        "\n",
        "    #Training step\n",
        "    for i, (images, labels) in enumerate(train_loader):\n",
        "        \n",
        "        images = images.to(device)\n",
        "        labels = labels.to(device)\n",
        "\n",
        "        #Forward, backprop, loss\n",
        "        logits = model(images)\n",
        "        loss = criterion(logits, labels)\n",
        "        optimizer.zero_grad()\n",
        "        loss.backward()\n",
        "\n",
        "        #Update model params\n",
        "        optimizer.step()\n",
        "\n",
        "        train_running_loss += loss.detach().item()\n",
        "        train_acc += get_accuracy(logits, labels, batch_size)\n",
        "    \n",
        "    model.eval()\n",
        "    print('Epoch: %d | Loss: %.4f | Train Accuracy: %.2f' \\\n",
        "          %(epoch, train_running_loss / i, train_acc/i))"
      ],
      "execution_count": 6,
      "outputs": [
        {
          "output_type": "stream",
          "text": [
            "Epoch: 0 | Loss: 1.7458 | Train Accuracy: 72.35\n",
            "Epoch: 1 | Loss: 1.6602 | Train Accuracy: 79.54\n",
            "Epoch: 2 | Loss: 1.5850 | Train Accuracy: 88.13\n",
            "Epoch: 3 | Loss: 1.5530 | Train Accuracy: 91.62\n",
            "Epoch: 4 | Loss: 1.5455 | Train Accuracy: 92.28\n"
          ],
          "name": "stdout"
        }
      ]
    },
    {
      "cell_type": "code",
      "metadata": {
        "id": "_nyD_WQvZ7Xz",
        "colab_type": "code",
        "colab": {
          "base_uri": "https://localhost:8080/",
          "height": 34
        },
        "outputId": "43eb7dbd-3645-4f7e-fde8-15cd35a34318"
      },
      "source": [
        "test_acc = 0.0\n",
        "\n",
        "#For confusion matrix\n",
        "list_predictions = []\n",
        "list_labels = []\n",
        "\n",
        "#Get test accuracy\n",
        "for i, (images, labels) in enumerate(test_loader, 0):\n",
        "    images = images.to(device)\n",
        "    labels = labels.to(device)\n",
        "\n",
        "    list_labels.append(labels)\n",
        "\n",
        "    outputs = model(images)\n",
        "    predictions = torch.max(outputs, 1)[1].to(device)\n",
        "    list_predictions.append(predictions)\n",
        "\n",
        "    test_acc += get_accuracy(outputs, labels, batch_size)\n",
        "        \n",
        "print('Test Accuracy: %.2f'%( test_acc/i))"
      ],
      "execution_count": 7,
      "outputs": [
        {
          "output_type": "stream",
          "text": [
            "Test Accuracy: 91.48\n"
          ],
          "name": "stdout"
        }
      ]
    },
    {
      "cell_type": "code",
      "metadata": {
        "id": "Lz1bElEcaWBI",
        "colab_type": "code",
        "colab": {
          "base_uri": "https://localhost:8080/",
          "height": 830
        },
        "outputId": "39c55176-7651-45cb-847a-0055691c7f50"
      },
      "source": [
        "from itertools import chain\n",
        "import seaborn as sn\n",
        "import pandas as pd\n",
        "import matplotlib.pyplot as plt\n",
        "\n",
        "#Make arrays for predictions and labels\n",
        "predictions_l = [list_predictions[i].tolist() for i in range(len(list_predictions))]\n",
        "labels_l = [list_labels[i].tolist() for i in range(len(list_labels))]\n",
        "predictions_l = list(chain.from_iterable(predictions_l))\n",
        "labels_l = list(chain.from_iterable(labels_l))\n",
        "\n",
        "#Confusion matrix (Not normalized)\n",
        "array = confusion_matrix(labels_l, predictions_l)\n",
        "print(\" Confusion matrix:\\n\", array)\n",
        "\n",
        "#Normalize and plot confusion matrix\n",
        "array = array.astype('float') / array.sum(axis=1)[:, np.newaxis]\n",
        "c_matrix = pd.DataFrame(array, index = [i for i in range(1, 11)],\\\n",
        "                        columns = [i for i in range(1, 11)])\n",
        "plt.figure(figsize=(10, 10))\n",
        "sn.heatmap(c_matrix, annot=True)\n",
        "plt.show()\n"
      ],
      "execution_count": 8,
      "outputs": [
        {
          "output_type": "stream",
          "text": [
            " Confusion matrix:\n",
            " [[863   3  16  26   3   1  83   0   5   0]\n",
            " [  1 975   0  18   3   0   1   0   2   0]\n",
            " [ 14   2 862  10  56   0  53   0   3   0]\n",
            " [ 11   3   7 945   9   0  24   0   0   1]\n",
            " [  1   1  48  48 849   0  51   0   2   0]\n",
            " [  0   0   0   0   0 984   0  11   0   5]\n",
            " [123   1  62  43  86   1 679   0   5   0]\n",
            " [  0   0   0   0   0  21   0 944   2  33]\n",
            " [  3   2   3   5   1   1   3   1 981   0]\n",
            " [  0   0   0   0   0   3   0  21   1 975]]\n"
          ],
          "name": "stdout"
        },
        {
          "output_type": "stream",
          "text": [
            "/usr/local/lib/python3.6/dist-packages/statsmodels/tools/_testing.py:19: FutureWarning: pandas.util.testing is deprecated. Use the functions in the public API at pandas.testing instead.\n",
            "  import pandas.util.testing as tm\n"
          ],
          "name": "stderr"
        },
        {
          "output_type": "display_data",
          "data": {
            "image/png": "[encoded data removed]",
            "text/plain": [
              "<Figure size 720x720 with 2 Axes>"
            ]
          },
          "metadata": {
            "tags": []
          }
        }
      ]
    }
  ]
}